{
 "cells": [
  {
   "cell_type": "code",
   "execution_count": 1,
   "metadata": {},
   "outputs": [],
   "source": [
    "import pandas as pd\n",
    "import tensorflow as tf\n",
    "import matplotlib.pyplot as plt\n",
    "import re\n",
    "import numpy as np\n",
    "from sklearn.model_selection import train_test_split\n",
    "import seaborn as sns\n",
    "#import nltk\n",
    "#from nltk.corpus import stopwords\n",
    "#nltk.download('stopwords')\n",
    "import spacy\n",
    "#import gensim\n",
    "from nlppreprocess import NLP\n",
    "from tensorflow.keras.optimizers import Adam\n",
    "#from gensim.parsing.preprocessing import remove_stopwords"
   ]
  },
  {
   "cell_type": "code",
   "execution_count": 2,
   "metadata": {},
   "outputs": [],
   "source": [
    "#tf2.0 have to tensorflow tf doesnt work\n",
    "#from keras.layers import Dropout\n",
    "from tensorflow.keras.preprocessing import sequence\n",
    "from tensorflow.keras.models import Sequential\n",
    "from tensorflow.keras.layers import Dense, Embedding, Dropout\n",
    "from tensorflow.keras.layers import LSTM, Bidirectional\n",
    "from tensorflow.keras.preprocessing.text import Tokenizer\n",
    "from tensorflow.keras.preprocessing.sequence import pad_sequences\n",
    "from tensorflow.keras.callbacks import EarlyStopping, ModelCheckpoint\n",
    "from tensorflow.keras.models import model_from_json"
   ]
  },
  {
   "cell_type": "code",
   "execution_count": null,
   "metadata": {},
   "outputs": [],
   "source": [
    "#if tf.test.gpu_device_name(): \n",
    "\n",
    "#    print('Default GPU Device: {}'.format(tf.test.gpu_device_name()))\n",
    "\n",
    "#else:\n",
    "\n",
    "#   print(\"Please install GPU version of TF\")"
   ]
  },
  {
   "cell_type": "code",
   "execution_count": 3,
   "metadata": {},
   "outputs": [],
   "source": [
    "#Read dataset.csv file\n",
    "mov_revs = pd.read_csv(\"C:/Users/Omer/Documents/datasetsent/IMDB-Dataset.csv\")\n",
    "mov_revs.isnull().values.any()\n",
    "mov_revs.shape\n",
    "labelsent = mov_revs['sentiment']"
   ]
  },
  {
   "cell_type": "code",
   "execution_count": 4,
   "metadata": {},
   "outputs": [
    {
     "data": {
      "image/png": "[encoded data removed]",
      "text/plain": [
       "<Figure size 432x288 with 1 Axes>"
      ]
     },
     "metadata": {
      "needs_background": "light"
     },
     "output_type": "display_data"
    }
   ],
   "source": [
    "#Visualising the dataset if normalization is required\n",
    "sns.countplot(x='sentiment', data=mov_revs).set_title(\"Balanced reviews\")\n",
    "plt.show()"
   ]
  },
  {
   "cell_type": "code",
   "execution_count": null,
   "metadata": {},
   "outputs": [],
   "source": [
    "DATASET_ENCODING = \"ISO-8859-1\"\n",
    "#if columns are not correctly identified in excel u can place ur own\n",
    "DATASET_COLUMNS = [\"target\", \"ids\", \"date\", \"flag\", \"user\", \"text\"]\n",
    "twit = pd.read_csv(\"C:/Users/Omer/Documents/datasetsent/twittersentimentanalysis/twitanalysis.csv\", encoding =DATASET_ENCODING, names=DATASET_COLUMNS)\n",
    "twit.drop('ids', axis=1, inplace=True)\n",
    "twit.drop('date', axis=1, inplace=True)\n",
    "twit.drop('flag', axis=1, inplace=True)\n",
    "twit.drop('user', axis=1, inplace=True)"
   ]
  },
  {
   "cell_type": "code",
   "execution_count": null,
   "metadata": {},
   "outputs": [],
   "source": [
    "sns.countplot(x='target', data=twit).set_title(\"Balanced reviews\")\n",
    "plt.show()"
   ]
  },
  {
   "cell_type": "code",
   "execution_count": null,
   "metadata": {},
   "outputs": [],
   "source": [
    "twit['text'][1]"
   ]
  },
  {
   "cell_type": "code",
   "execution_count": null,
   "metadata": {},
   "outputs": [],
   "source": [
    "labelsentv2 = twit['target']\n",
    "labelsentv2 = np.array(list(map(lambda x: 1 if x==4 else 0, labelsentv2)))"
   ]
  },
  {
   "cell_type": "code",
   "execution_count": null,
   "metadata": {},
   "outputs": [],
   "source": []
  },
  {
   "cell_type": "code",
   "execution_count": null,
   "metadata": {},
   "outputs": [],
   "source": [
    "#fields = ['review']\n",
    "\n",
    "#df = pd.read_csv('data.csv', skipinitialspace=True, usecols=fields)\n",
    "# See the keys\n",
    "#print df.keys()\n",
    "# See content in 'star_name'\n",
    "#print df.star_name"
   ]
  },
  {
   "cell_type": "code",
   "execution_count": null,
   "metadata": {},
   "outputs": [],
   "source": [
    "mov_revs.head()\n",
    "#show random movie review (requires preprocessing)\n",
    "#mov_revs[\"review\"][7]"
   ]
  },
  {
   "cell_type": "code",
   "execution_count": 5,
   "metadata": {},
   "outputs": [],
   "source": [
    "#have to get rid of stop words.\n",
    "#stop_words = set(stopwords.words('english')) \n",
    "nlp = NLP()"
   ]
  },
  {
   "cell_type": "code",
   "execution_count": null,
   "metadata": {},
   "outputs": [],
   "source": [
    "#Removing html tags, punctuations and numbers, spaces and single character removal\n",
    "def preprocess_text(sen):\n",
    "    \n",
    "    sentence = remove_tags(sen)\n",
    "    \n",
    "    sentence = re.sub('[^a-zA-Z]', ' ', sentence)\n",
    "\n",
    "    sentence = re.sub(r\"\\s+[a-zA-Z]\\s+\", ' ', sentence)\n",
    "\n",
    "    sentence = re.sub(r'\\s+', ' ', sentence)\n",
    "    \n",
    "    #sentence = remove_stopwords(sen)\n",
    "\n",
    "    return sentence"
   ]
  },
  {
   "cell_type": "code",
   "execution_count": null,
   "metadata": {},
   "outputs": [],
   "source": [
    "TAG_RE = re.compile(r'<[^>]+>')\n",
    "\n",
    "def remove_tags(text):\n",
    "    return TAG_RE.sub('', text)"
   ]
  },
  {
   "cell_type": "code",
   "execution_count": null,
   "metadata": {},
   "outputs": [],
   "source": [
    "def remstopw(text):\n",
    "    sentence = remove_stopwords(sen)\n",
    "    return sentence"
   ]
  },
  {
   "cell_type": "code",
   "execution_count": 6,
   "metadata": {},
   "outputs": [],
   "source": [
    "movrevised = []\n",
    "sentences = list(mov_revs['review'])\n",
    "for sen in sentences:\n",
    "    movrevised.append(nlp.process(sen))"
   ]
  },
  {
   "cell_type": "code",
   "execution_count": null,
   "metadata": {},
   "outputs": [],
   "source": [
    "twitrevised = []\n",
    "sentencestwit = list(twit['text'])\n",
    "for sen in sentencestwit:\n",
    "    twitrevised.append(nlp.process(sen))"
   ]
  },
  {
   "cell_type": "code",
   "execution_count": null,
   "metadata": {},
   "outputs": [],
   "source": [
    "twitrevised[1]"
   ]
  },
  {
   "cell_type": "code",
   "execution_count": null,
   "metadata": {},
   "outputs": [],
   "source": [
    "movrevised[0]"
   ]
  },
  {
   "cell_type": "code",
   "execution_count": null,
   "metadata": {},
   "outputs": [],
   "source": [
    "for x in movrevised:\n",
    "    twitrevised.append(x)"
   ]
  },
  {
   "cell_type": "code",
   "execution_count": null,
   "metadata": {},
   "outputs": [],
   "source": [
    "#Create a new list that contains all the preprocessed revised reviews\n",
    "movrevised = []\n",
    "sentences = list(mov_revs['review'])\n",
    "#sentences = remove_stopwords(sentences)\n",
    "for sen in sentences:\n",
    "    movrevised.append(preprocess_text(sen))"
   ]
  },
  {
   "cell_type": "code",
   "execution_count": null,
   "metadata": {},
   "outputs": [],
   "source": [
    "# removing stop words from preprocessed lit\n",
    "movrevisedtwo = []\n",
    "for sen in movrevised:\n",
    "    movrevisedtwo.append(remstopw(sen))"
   ]
  },
  {
   "cell_type": "code",
   "execution_count": null,
   "metadata": {},
   "outputs": [],
   "source": [
    "#def lemspac(text):\n",
    "#    sentence = "
   ]
  },
  {
   "cell_type": "code",
   "execution_count": null,
   "metadata": {},
   "outputs": [],
   "source": [
    "#movrevisedthree = []\n",
    "#movrevisedtwostri = ''.join(movrevisedtwo)\n",
    "#len(movrevisedtwostri)"
   ]
  },
  {
   "cell_type": "code",
   "execution_count": null,
   "metadata": {},
   "outputs": [],
   "source": [
    "movrevisedoub = [movrevisedtwo]"
   ]
  },
  {
   "cell_type": "code",
   "execution_count": null,
   "metadata": {},
   "outputs": [],
   "source": [
    "#movrevisedoub"
   ]
  },
  {
   "cell_type": "code",
   "execution_count": null,
   "metadata": {},
   "outputs": [],
   "source": [
    "#movrevisedtwostri\n",
    "nlp = spacy.load(\"en\")# disable = ['ner', 'parser'])\n",
    "lengths = np.cumsum([0] + list(map(len, movrevisedoub)))\n",
    "print(lengths)"
   ]
  },
  {
   "cell_type": "code",
   "execution_count": null,
   "metadata": {},
   "outputs": [],
   "source": [
    "flat_words = [item for sublist in movrevisedoub for item in sublist]"
   ]
  },
  {
   "cell_type": "code",
   "execution_count": null,
   "metadata": {},
   "outputs": [],
   "source": [
    "#flat_words"
   ]
  },
  {
   "cell_type": "code",
   "execution_count": null,
   "metadata": {},
   "outputs": [],
   "source": [
    "doc = spacy.tokens.Doc(nlp.vocab, words=flat_words)\n",
    "\n",
    "lemmatized = []\n",
    "# Iterate starting with 1\n",
    "for index in range(1, len(lengths)):\n",
    "    # Slice doc as described in the first point, so [0:3] and [3:6]\n",
    "    span = doc[lengths[index - 1] : lengths[index]]\n",
    "    # Add lemmatized tokens as list to the list\n",
    "    lemmatized.append([token.lemma_ for token in span])\n",
    "\n",
    "#print(lemmatized)\n",
    "\n",
    "#nlp.max_length = 38270710\n",
    "#doc = nlp(movrevisedtwostri, disable = ['ner', 'parser'])\n",
    "#lemma_word1 = [] \n",
    "#for token in doc:\n",
    "#    movrevisedthree.append(token.lemma_)"
   ]
  },
  {
   "cell_type": "code",
   "execution_count": null,
   "metadata": {},
   "outputs": [],
   "source": [
    "flat_wordslem = [item for sublist in lemmatized for item in sublist]"
   ]
  },
  {
   "cell_type": "code",
   "execution_count": null,
   "metadata": {},
   "outputs": [],
   "source": [
    "#Shows the revised review after preprocessing\n",
    "movrevised[0]"
   ]
  },
  {
   "cell_type": "code",
   "execution_count": null,
   "metadata": {},
   "outputs": [],
   "source": [
    "#Shows the revsed review after preprocessing stopwords\n",
    "movrevisedtwo[30]"
   ]
  },
  {
   "cell_type": "code",
   "execution_count": null,
   "metadata": {},
   "outputs": [],
   "source": [
    "flat_wordslem[0]"
   ]
  },
  {
   "cell_type": "code",
   "execution_count": null,
   "metadata": {},
   "outputs": [],
   "source": [
    "#len(movrevised[7])"
   ]
  },
  {
   "cell_type": "code",
   "execution_count": 7,
   "metadata": {},
   "outputs": [],
   "source": [
    "#Converting sentiment labels into 1 and 0 where 1 is positive and 0 is negative\n",
    "labelsent = np.array(list(map(lambda x: 1 if x==\"positive\" else 0, labelsent)))\n",
    "#labelsentv3 = np.concatenate((labelsentv2, labelsent), axis=None)\n",
    "#encoded_labels = [1 if labelsent =='positive' else 0, labelsent]\n",
    "#encoded_labels = np.array(encoded_labels)"
   ]
  },
  {
   "cell_type": "code",
   "execution_count": null,
   "metadata": {},
   "outputs": [],
   "source": [
    "labelsentv3"
   ]
  },
  {
   "cell_type": "code",
   "execution_count": 8,
   "metadata": {},
   "outputs": [],
   "source": [
    "#Train(80)/test(20)split\n",
    "X_train, X_test, y_train, y_test = train_test_split(movrevised, labelsent, test_size=0.20, random_state=42)\n",
    "#X_train, X_test, y_train, y_test = train_test_split(twitrevised, labelsentv3, test_size=0.20, random_state=42)"
   ]
  },
  {
   "cell_type": "code",
   "execution_count": null,
   "metadata": {},
   "outputs": [],
   "source": [
    "X_test.shape"
   ]
  },
  {
   "cell_type": "code",
   "execution_count": 9,
   "metadata": {},
   "outputs": [],
   "source": [
    "#Using keras tokenizer to tokenize our train and test sets.\n",
    "#maxlen = 200\n",
    "max_features = 50000\n",
    "tokenizer = Tokenizer(num_words=max_features, oov_token=None)\n",
    "tokenizer.fit_on_texts(X_train)\n",
    "\n",
    "X_train = tokenizer.texts_to_sequences(X_train)\n",
    "X_test = tokenizer.texts_to_sequences(X_test)"
   ]
  },
  {
   "cell_type": "code",
   "execution_count": null,
   "metadata": {},
   "outputs": [],
   "source": [
    "#print(X_train)"
   ]
  },
  {
   "cell_type": "code",
   "execution_count": 10,
   "metadata": {},
   "outputs": [],
   "source": [
    "#Adding 1 because of reserved 0 index\n",
    "vocab_size = len(tokenizer.word_index) + 1\n",
    "\n",
    "#maxlen is changeable based on the review lengths\n",
    "maxlen = 100\n",
    "\n",
    "#Padding reviews that are less than maxlen so it reaches the limit\n",
    "X_train = pad_sequences(X_train, padding='post', maxlen=maxlen)\n",
    "X_test = pad_sequences(X_test, padding='post', maxlen=maxlen)"
   ]
  },
  {
   "cell_type": "code",
   "execution_count": null,
   "metadata": {},
   "outputs": [],
   "source": [
    "#vocab_size\n",
    "#tokenizer.word_index.shape\n",
    "#word_index = {w: i for i, w in enumerate(embeddings_dictionary.keys(), 1)}"
   ]
  },
  {
   "cell_type": "code",
   "execution_count": null,
   "metadata": {},
   "outputs": [],
   "source": [
    "#create embedding matrix\n",
    "#embedding_matrix = np.zeros((len(word_index) + 1, dims))\n",
    "#for word, i in word_index.items():\n",
    "#    embedding_vector = embeddings_dictionary.get(word)\n",
    "#    if embedding_vector is not None:\n",
    "#        # words not found in embedding index will be all-zeros.\n",
    "#        embedding_matrix[i] = embedding_vector[:dims]"
   ]
  },
  {
   "cell_type": "code",
   "execution_count": null,
   "metadata": {},
   "outputs": [],
   "source": [
    "#def texts_to_sequences(texts, word_index):\n",
    "#    for text in texts:\n",
    "#        tokens = text_to_word_sequence(text)\n",
    "#        yield [word_index.get(w) for w in tokens if w in word_index]\n",
    "\n",
    "#X_train = texts_to_sequences(X_train, word_index)\n",
    "#X_test = texts_to_sequences(X_test, word_index) "
   ]
  },
  {
   "cell_type": "code",
   "execution_count": null,
   "metadata": {},
   "outputs": [],
   "source": [
    "#X_train"
   ]
  },
  {
   "cell_type": "code",
   "execution_count": null,
   "metadata": {},
   "outputs": [],
   "source": [
    "#Adding 1 because of reserved 0 index\n",
    "#vocab_size = len(word_index) + 1\n",
    "\n",
    "#maxlen is changeable based on the review lengths\n",
    "#maxlen = 200\n",
    "#pad_sequences(list(review_token_idx)\n",
    "#Padding reviews that are less than maxlen so it reaches the limit\n",
    "#list(X_train) = pad_sequences(list(X_train), padding='post', maxlen=maxlen)\n",
    "#list(X_test) = pad_sequences(list(X_test), padding='post', maxlen=maxlen)"
   ]
  },
  {
   "cell_type": "code",
   "execution_count": null,
   "metadata": {},
   "outputs": [],
   "source": []
  },
  {
   "cell_type": "code",
   "execution_count": null,
   "metadata": {},
   "outputs": [],
   "source": []
  },
  {
   "cell_type": "code",
   "execution_count": 11,
   "metadata": {},
   "outputs": [],
   "source": [
    "#Using GloVe embeddings to create our feature matrix\n",
    "embeddings_dictionary = dict()\n",
    "dims = 100\n",
    "#glove_data = 'C:/Users/Omer/Documents/datasetsent/glove_embedding/glove.42B.'+str(dims)+'d.txt'\n",
    "glove_data = 'C:/Users/Omer/Documents/datasetsent/glove_embedding/glove.6B.'+str(dims)+'d.txt'\n",
    "glove_file = open(glove_data, encoding=\"utf8\")\n",
    "#glove_file = open('C:/Users/Omer/Documents/datasetsent/glove_embedding/glove.6B.100d.txt', encoding=\"utf8\")\n",
    "\n",
    "for line in glove_file:\n",
    "    records = line.split()\n",
    "    word = records[0]\n",
    "    vector_dimensions = np.asarray(records[1:], dtype='float32')\n",
    "    embeddings_dictionary [word] = vector_dimensions\n",
    "glove_file.close()"
   ]
  },
  {
   "cell_type": "code",
   "execution_count": 12,
   "metadata": {},
   "outputs": [],
   "source": [
    "#Embedding matrix that maps each word in the review if present to the glove embeddings\n",
    "#index=1000\n",
    "embedding_matrix = np.zeros((vocab_size, 100)) #.astype(object)\n",
    "for word, index in tokenizer.word_index.items():\n",
    "    embedding_vector = embeddings_dictionary.get(word)\n",
    "    if embedding_vector is not None:\n",
    "        embedding_matrix[index] = embedding_vector"
   ]
  },
  {
   "cell_type": "code",
   "execution_count": null,
   "metadata": {},
   "outputs": [],
   "source": [
    "# Creating callbacks to avoid model overfitting and saving the best model\n",
    "#filepath = \"sentmlmodel.hdf5\"\n",
    "#callbacks = [EarlyStopping(monitor='val_loss', patience=5),\n",
    "#             ModelCheckpoint(filepath), save_best_only=True,save_weights_only=False)]"
   ]
  },
  {
   "cell_type": "code",
   "execution_count": null,
   "metadata": {},
   "outputs": [],
   "source": [
    "#def get_last_layer_units_and_activation(num_classes):\n",
    "#    if num_classes == 2:\n",
    "#        activation = 'sigmoid'\n",
    "#        units = 1\n",
    "#    else:\n",
    "#        activation = 'softmax'\n",
    "#        units = num_classes\n",
    "#    return units, activation"
   ]
  },
  {
   "cell_type": "code",
   "execution_count": 13,
   "metadata": {},
   "outputs": [],
   "source": [
    "DROPOUT_RATE = 0.5\n",
    "#UNITS = 64\n",
    "#NUM_CLASSES = 2\n",
    "#LAYERS = 2\n",
    "callbacks = [tf.keras.callbacks.EarlyStopping(monitor='val_loss', patience=2)]\n",
    "#input_shape = X_train.shape[1:]\n",
    "opt = Adam(learning_rate=2e-5)"
   ]
  },
  {
   "cell_type": "code",
   "execution_count": null,
   "metadata": {},
   "outputs": [],
   "source": [
    "# Compile model with parameters\n",
    "#if NUM_CLASSES == 2:\n",
    "#    loss = 'binary_crossentropy'\n",
    "#else:\n",
    "#    loss = 'sparse_categorical_crossentropy'"
   ]
  },
  {
   "cell_type": "code",
   "execution_count": 14,
   "metadata": {},
   "outputs": [
    {
     "name": "stdout",
     "output_type": "stream",
     "text": [
      "Model: \"sequential\"\n",
      "_________________________________________________________________\n",
      "Layer (type)                 Output Shape              Param #   \n",
      "=================================================================\n",
      "embedding (Embedding)        (None, 100, 100)          9257600   \n",
      "_________________________________________________________________\n",
      "lstm (LSTM)                  (None, 128)               117248    \n",
      "_________________________________________________________________\n",
      "dense (Dense)                (None, 1)                 129       \n",
      "=================================================================\n",
      "Total params: 9,374,977\n",
      "Trainable params: 9,374,977\n",
      "Non-trainable params: 0\n",
      "_________________________________________________________________\n",
      "None\n"
     ]
    }
   ],
   "source": [
    "#128 neuron lstm where weights are from embedding\n",
    "#LEARNING_RATE = 1e-3\n",
    "\n",
    "model = Sequential()\n",
    "#embedding_layer = Embedding(vocab_size, 100, weights=[embedding_matrix], input_length=maxlen , trainable=False)\n",
    "embedding_layer = Embedding(vocab_size, 100, input_length=maxlen)\n",
    "model.add(embedding_layer)\n",
    "#model.add(Dropout(rate=DROPOUT_RATE))\n",
    "#model.add(Bidirectional(LSTM(128)))\n",
    "model.add(LSTM(128,dropout=0.5))\n",
    "#model.add(LSTM(128))\n",
    "#model.add(Dropout(rate=DROPOUT_RATE))\n",
    "model.add(Dense(1, activation='sigmoid'))\n",
    "#optimizer = sigmoid\n",
    "#optimizer = tf.keras.optimizers.Adam()\n",
    "model.compile(optimizer=opt, loss='binary_crossentropy', metrics=['acc'])\n",
    "print(model.summary())"
   ]
  },
  {
   "cell_type": "code",
   "execution_count": null,
   "metadata": {},
   "outputs": [],
   "source": [
    "#model = nlp_model(\"https://tfhub.dev/tensorflow/bert_en_uncased_L-12_H-768_A-12/1\")"
   ]
  },
  {
   "cell_type": "code",
   "execution_count": 15,
   "metadata": {},
   "outputs": [
    {
     "name": "stdout",
     "output_type": "stream",
     "text": [
      "Train on 32000 samples, validate on 8000 samples\n",
      "Epoch 1/10\n",
      "32000/32000 [==============================] - 79s 2ms/sample - loss: 0.6930 - acc: 0.5121 - val_loss: 0.6927 - val_acc: 0.5232\n",
      "Epoch 2/10\n",
      "32000/32000 [==============================] - 79s 2ms/sample - loss: 0.6920 - acc: 0.5422 - val_loss: 0.6915 - val_acc: 0.5661\n",
      "Epoch 3/10\n",
      "32000/32000 [==============================] - 68s 2ms/sample - loss: 0.6541 - acc: 0.6242 - val_loss: 0.5515 - val_acc: 0.7324\n",
      "Epoch 4/10\n",
      "32000/32000 [==============================] - 67s 2ms/sample - loss: 0.5068 - acc: 0.7531 - val_loss: 0.4550 - val_acc: 0.7889\n",
      "Epoch 5/10\n",
      "32000/32000 [==============================] - 69s 2ms/sample - loss: 0.4368 - acc: 0.8006 - val_loss: 0.4102 - val_acc: 0.8179\n",
      "Epoch 6/10\n",
      "32000/32000 [==============================] - 69s 2ms/sample - loss: 0.3929 - acc: 0.8290 - val_loss: 0.3814 - val_acc: 0.8336\n",
      "Epoch 7/10\n",
      "32000/32000 [==============================] - 77s 2ms/sample - loss: 0.3614 - acc: 0.8457 - val_loss: 0.3613 - val_acc: 0.8465\n",
      "Epoch 8/10\n",
      "32000/32000 [==============================] - 92s 3ms/sample - loss: 0.3335 - acc: 0.8593 - val_loss: 0.3488 - val_acc: 0.8510\n",
      "Epoch 9/10\n",
      "32000/32000 [==============================] - 86s 3ms/sample - loss: 0.3134 - acc: 0.8703 - val_loss: 0.3407 - val_acc: 0.8533\n",
      "Epoch 10/10\n",
      "32000/32000 [==============================] - 70s 2ms/sample - loss: 0.2962 - acc: 0.8805 - val_loss: 0.3371 - val_acc: 0.8558\n",
      "10000/10000 [==============================] - 7s 750us/sample - loss: 0.3316 - acc: 0.8629\n"
     ]
    }
   ],
   "source": [
    "#Training our model and creating a validation set of training.\n",
    "history = model.fit(X_train, y_train, batch_size=128, epochs=10, verbose=1, validation_split=0.2,callbacks=callbacks)\n",
    "#Testing model with test sets\n",
    "score = model.evaluate(X_test, y_test, verbose=1)"
   ]
  },
  {
   "cell_type": "code",
   "execution_count": null,
   "metadata": {},
   "outputs": [],
   "source": [
    "print(\"Test loss:\", score[0])\n",
    "print(\"Test accuracy:\", score[1])"
   ]
  },
  {
   "cell_type": "code",
   "execution_count": 16,
   "metadata": {},
   "outputs": [
    {
     "data": {
      "image/png": "[encoded data removed]",
      "text/plain": [
       "<Figure size 432x288 with 1 Axes>"
      ]
     },
     "metadata": {
      "needs_background": "light"
     },
     "output_type": "display_data"
    },
    {
     "data": {
      "image/png": "[encoded data removed]",
      "text/plain": [
       "<Figure size 432x288 with 1 Axes>"
      ]
     },
     "metadata": {
      "needs_background": "light"
     },
     "output_type": "display_data"
    }
   ],
   "source": [
    "#plotting model history\n",
    "plt.plot(history.history['acc'])\n",
    "plt.plot(history.history['val_acc'])\n",
    "plt.title('model accuracy')\n",
    "plt.ylabel('accuracy')\n",
    "plt.xlabel('epoch')\n",
    "plt.legend(['train','test'], loc='upper left')\n",
    "plt.show()\n",
    "\n",
    "#plotting model loss\n",
    "plt.plot(history.history['loss'])\n",
    "plt.plot(history.history['val_loss'])\n",
    "plt.title('model loss')\n",
    "plt.ylabel('loss')\n",
    "plt.xlabel('epoch')\n",
    "plt.legend(['train','test'], loc='upper left')\n",
    "plt.show()"
   ]
  },
  {
   "cell_type": "code",
   "execution_count": null,
   "metadata": {},
   "outputs": [],
   "source": [
    "index = 32\n",
    "print(df['review'][index])\n",
    "print('='*70)\n",
    "print(f'Actual sentiment is  : {df[\"sentiment\"][index]}')\n",
    "print('='*70)\n",
    "pro = predict_text(df['review'][index])\n",
    "status = \"positive\" if pro > 0.5 else \"negative\"\n",
    "pro = (1 - pro) if status == \"negative\" else pro\n",
    "print(f'predicted sentiment is {status} with a probability of {pro}')"
   ]
  },
  {
   "cell_type": "code",
   "execution_count": null,
   "metadata": {},
   "outputs": [],
   "source": [
    "# serialize model to JSON\n",
    "model_json = model.to_json()\n",
    "with open(\"C:/Users/Omer/Documents/datasetsent/model.json\", \"w\") as json_file:\n",
    "    json_file.write(model_json)\n",
    "    \n",
    "# serialize weights to HDF5\n",
    "model.save_weights(\"C:/Users/Omer/Documents/datasetsent/model.h5\")\n",
    "print(\"Saved model to disk\")"
   ]
  },
  {
   "cell_type": "code",
   "execution_count": null,
   "metadata": {},
   "outputs": [],
   "source": [
    "# load json and create model\n",
    "json_file = open('C:/Users/Omer/Documents/datasetsent/model.json', 'r')\n",
    "loaded_model_json = json_file.read()\n",
    "json_file.close()\n",
    "loaded_model = model_from_json(loaded_model_json)\n",
    "# load weights into new model\n",
    "loaded_model.load_weights(\"C:/Users/Omer/Documents/datasetsent/model.h5\")\n",
    "print(\"Loaded model from disk\")\n",
    " \n"
   ]
  },
  {
   "cell_type": "code",
   "execution_count": null,
   "metadata": {},
   "outputs": [],
   "source": [
    "# evaluate loaded model on test data\n",
    "#model.compile(optimizer='adam', loss='binary_crossentropy', metrics=['acc'])\n",
    "loaded_model.compile(loss='binary_crossentropy', optimizer=opt, metrics=['accuracy'])\n",
    "score = loaded_model.evaluate(X_test, y_test, verbose=1)\n",
    "print(\"%s: %.2f%%\" % (loaded_model.metrics_names[1], score[1]*100))"
   ]
  },
  {
   "cell_type": "code",
   "execution_count": null,
   "metadata": {},
   "outputs": [],
   "source": []
  },
  {
   "cell_type": "code",
   "execution_count": null,
   "metadata": {},
   "outputs": [],
   "source": [
    "#For a single user review 3 is negative and 1 is positive\n",
    "#custom lists\n",
    "instance = flat_wordslem[3]\n",
    "#neglist = ['this machine learning algorithm sucks and is awful']\n",
    "#poslist = ['nah lstms are pretty cool']\n",
    "#instance = list(neglist)\n",
    "#movrevised[57]\n",
    "#print(instance)"
   ]
  },
  {
   "cell_type": "code",
   "execution_count": null,
   "metadata": {},
   "outputs": [],
   "source": [
    "emptyli = []\n",
    "for sen in instance:\n",
    "    emptyli.append(preprocess_text(sen))\n",
    "\n",
    "instance = tokenizer.texts_to_sequences(emptyli)   "
   ]
  },
  {
   "cell_type": "code",
   "execution_count": null,
   "metadata": {},
   "outputs": [],
   "source": [
    "emptyli"
   ]
  },
  {
   "cell_type": "code",
   "execution_count": null,
   "metadata": {},
   "outputs": [],
   "source": [
    "#Create a new list that contains all the preprocessed revised reviews\n",
    "#movrevised = []\n",
    "#sentences = list(mov_revs['review'])\n",
    "#for sen in sentences:\n",
    "#    movrevised.append(preprocess_text(sen))"
   ]
  },
  {
   "cell_type": "code",
   "execution_count": null,
   "metadata": {},
   "outputs": [],
   "source": [
    "instance2 = ['today was a quiet rainy. This terrible weather has quiet put off my mood to go outside.']\n",
    "instance = list(instance2)"
   ]
  },
  {
   "cell_type": "code",
   "execution_count": null,
   "metadata": {},
   "outputs": [],
   "source": [
    "#Preprocess the review.\n",
    "#instance = []\n",
    "#sentences = list(mov_revs['review'])\n",
    "#for sen in sentences:\n",
    "#    instance.append(preprocess_text(sen))\n",
    " \n",
    "\n",
    "    \n",
    "#tokenize instance\n",
    "#instance = tokenizer.texts_to_sequences(instance)\n",
    "\n",
    "flat_list = []\n",
    "for sublist in instance:\n",
    "    for item in sublist:\n",
    "        flat_list.append(item)\n",
    "\n",
    "flat_list = [flat_list]\n",
    "#pad instance based on maxlen\n",
    "instance = pad_sequences(flat_list, padding='post', maxlen=maxlen)\n",
    "\n"
   ]
  },
  {
   "cell_type": "code",
   "execution_count": null,
   "metadata": {},
   "outputs": [],
   "source": [
    "lstm_pred = model.predict(instance)\n",
    "lstm_ropre = np.round(lstm_pred,2)\n",
    "lstm_ropre = np.squeeze(lstm_ropre)"
   ]
  },
  {
   "cell_type": "code",
   "execution_count": null,
   "metadata": {},
   "outputs": [],
   "source": [
    "# Adding 1 because of reserved 0 index\n",
    "#vocab_size = len(tokenizer.word_index) + 1\n",
    "#maxlen = 100"
   ]
  },
  {
   "cell_type": "code",
   "execution_count": null,
   "metadata": {},
   "outputs": [],
   "source": [
    "#embedding_matrix = zeros((vocab_size, 100))\n",
    "#for word, index in tokenizer.word_index.items():\n",
    "#    embedding_vector = embeddings_dictionary.get(word)\n",
    "#    if embedding_vector is not None:\n",
    "#        embedding_matrix[index] = embedding_vector"
   ]
  },
  {
   "cell_type": "code",
   "execution_count": null,
   "metadata": {},
   "outputs": [],
   "source": [
    "print('Prediction value before rounding:',lstm_pred)"
   ]
  },
  {
   "cell_type": "code",
   "execution_count": null,
   "metadata": {},
   "outputs": [],
   "source": [
    "print('Prediction value after rounding:',lstm_ropre)"
   ]
  },
  {
   "cell_type": "code",
   "execution_count": null,
   "metadata": {},
   "outputs": [],
   "source": [
    "#Response to differentiate if it is a positive or negative review\n",
    "    if(lstm_ropre==1):\n",
    "        print(\"Positive review detected!\")\n",
    "    else:\n",
    "        print(\"Negative review detected.\")\n",
    "        "
   ]
  },
  {
   "cell_type": "code",
   "execution_count": null,
   "metadata": {},
   "outputs": [],
   "source": []
  }
 ],
 "metadata": {
  "kernelspec": {
   "display_name": "Python [default]",
   "language": "python",
   "name": "python3"
  },
  "language_info": {
   "codemirror_mode": {
    "name": "ipython",
    "version": 3
   },
   "file_extension": ".py",
   "mimetype": "text/x-python",
   "name": "python",
   "nbconvert_exporter": "python",
   "pygments_lexer": "ipython3",
   "version": "3.6.6"
  }
 },
 "nbformat": 4,
 "nbformat_minor": 4
}
